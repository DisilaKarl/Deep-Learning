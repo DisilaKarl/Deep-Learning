{
  "cells": [
    {
      "cell_type": "code",
      "execution_count": null,
      "metadata": {
        "id": "EGVqDM9ZZzu4"
      },
      "outputs": [],
      "source": [
        "import torch\n",
        "import torch.nn as nn\n",
        "import torch.optim as optim\n",
        "from torchvision import datasets, transforms\n",
        "from torch.utils.data import DataLoader\n",
        "import matplotlib.pyplot as plt"
      ]
    },
    {
      "cell_type": "code",
      "execution_count": null,
      "metadata": {
        "id": "2DwVkJvSZzu6",
        "outputId": "4f75cf72-78c1-479c-a7bc-c30e1585a33f",
        "colab": {
          "base_uri": "https://localhost:8080/"
        }
      },
      "outputs": [
        {
          "output_type": "stream",
          "name": "stderr",
          "text": [
            "100%|██████████| 9.91M/9.91M [00:11<00:00, 900kB/s] \n",
            "100%|██████████| 28.9k/28.9k [00:00<00:00, 129kB/s]\n",
            "100%|██████████| 1.65M/1.65M [00:01<00:00, 1.22MB/s]\n",
            "100%|██████████| 4.54k/4.54k [00:00<00:00, 6.09MB/s]\n"
          ]
        }
      ],
      "source": [
        "# Step 1: Load and preprocess the MNIST dataset\n",
        "# A dataset is a collection of data samples and their corresponding labels. Here, we use the MNIST dataset,\n",
        "# which contains images of handwritten digits and their labels (0-9).\n",
        "\n",
        "transform = transforms.Compose([\n",
        "    transforms.ToTensor(),  # Converts images to PyTorch tensors\n",
        "    transforms.Normalize((0.5,), (0.5,))  # Normalize to range [-1, 1]\n",
        "])\n",
        "\n",
        "train_dataset = datasets.MNIST(root='./data', train=True, transform=transform, download=True)\n",
        "val_dataset = datasets.MNIST(root='./data', train=False, transform=transform, download=True)"
      ]
    },
    {
      "cell_type": "code",
      "execution_count": null,
      "metadata": {
        "id": "TwXlzh8dZzu7",
        "outputId": "308712fe-d66d-4282-def3-2bd3531b3eef",
        "colab": {
          "base_uri": "https://localhost:8080/",
          "height": 159
        }
      },
      "outputs": [
        {
          "output_type": "display_data",
          "data": {
            "text/plain": [
              "<Figure size 1000x200 with 5 Axes>"
            ],
            "image/png": "[encoded data removed]"
          },
          "metadata": {}
        }
      ],
      "source": [
        "# Visualize some sample images from the dataset\n",
        "fig, axes = plt.subplots(1, 5, figsize=(10, 2))\n",
        "for i in range(5):\n",
        "    image, label = train_dataset[i]\n",
        "    axes[i].imshow(image.squeeze(), cmap='gray')\n",
        "    axes[i].set_title(f'Label: {label}')\n",
        "    axes[i].axis('off')\n",
        "plt.show()"
      ]
    },
    {
      "cell_type": "code",
      "execution_count": null,
      "metadata": {
        "id": "gmwY7CQIZzu8"
      },
      "outputs": [],
      "source": [
        "# A DataLoader is an iterator that loads batches of data from a dataset.\n",
        "# It makes it easier to process data in mini-batches, shuffle the data, and load it in parallel using multiprocessing.\n",
        "train_loader = DataLoader(train_dataset, batch_size=64, shuffle=True)\n",
        "val_loader = DataLoader(val_dataset, batch_size=64, shuffle=False)"
      ]
    },
    {
      "cell_type": "code",
      "execution_count": null,
      "metadata": {
        "id": "Tb91w39dZzu8"
      },
      "outputs": [],
      "source": [
        "# Step 2: Define the MLP model for MNIST classification\n",
        "# A model in PyTorch is defined as a subclass of `nn.Module`. It represents a neural network.\n",
        "# The MLP (Multi-Layer Perceptron) consists of fully connected layers.\n",
        "class MLP(nn.Module):\n",
        "    def __init__(self):\n",
        "        super(MLP, self).__init__()\n",
        "        self.fc1 = nn.Linear(28 * 28, 128)  # Input and first hidden layer sizes\n",
        "        self.fc2 = nn.Linear(128, 64)  # First hidden to second hidden layer\n",
        "        self.fc3 = nn.Linear(64, 10)  # Second hidden to output layer (10 classes for MNIST)\n",
        "\n",
        "    def forward(self, x):\n",
        "        # The forward method defines the computation performed at every call of the model.\n",
        "        x = x.view(x.size(0), -1)  # Flatten the input tensor\n",
        "        x = torch.relu(self.fc1(x))  # Activation function + the first layer\n",
        "        x = torch.relu(self.fc2(x))  # Activation function + the second layer\n",
        "        x = self.fc3(x)  # Output layer\n",
        "        return x"
      ]
    },
    {
      "cell_type": "code",
      "execution_count": null,
      "metadata": {
        "id": "MCfYT4z2Zzu8"
      },
      "outputs": [],
      "source": [
        "model = MLP()\n",
        "\n",
        "# Step 3: Set up the loss function and optimizer\n",
        "# A loss function measures how far the model's predictions are from the actual labels.\n",
        "# An optimizer updates the model's weights to minimize the loss function.\n",
        "criterion = nn.CrossEntropyLoss()  # Choose a loss function (e.g., CrossEntropyLoss)\n",
        "optimizer = torch.optim.SGD(model.parameters(), lr=0.001)  # Choose an optimizer and learning rate"
      ]
    },
    {
      "cell_type": "code",
      "execution_count": null,
      "metadata": {
        "id": "rSUHrkKnZzu9",
        "outputId": "09919940-3c05-462a-94af-02746c8fe3d8",
        "colab": {
          "base_uri": "https://localhost:8080/"
        }
      },
      "outputs": [
        {
          "output_type": "stream",
          "name": "stdout",
          "text": [
            "Epoch [1/10], Loss: 2.2268\n",
            "Validation Accuracy: 36.72%\n",
            "Epoch [2/10], Loss: 1.9820\n",
            "Validation Accuracy: 61.30%\n",
            "Epoch [3/10], Loss: 1.5383\n",
            "Validation Accuracy: 72.54%\n",
            "Epoch [4/10], Loss: 1.0926\n",
            "Validation Accuracy: 78.74%\n",
            "Epoch [5/10], Loss: 0.8201\n",
            "Validation Accuracy: 82.29%\n",
            "Epoch [6/10], Loss: 0.6686\n",
            "Validation Accuracy: 84.61%\n",
            "Epoch [7/10], Loss: 0.5772\n",
            "Validation Accuracy: 86.07%\n",
            "Epoch [8/10], Loss: 0.5172\n",
            "Validation Accuracy: 87.24%\n",
            "Epoch [9/10], Loss: 0.4752\n",
            "Validation Accuracy: 87.88%\n",
            "Epoch [10/10], Loss: 0.4445\n",
            "Validation Accuracy: 88.58%\n"
          ]
        }
      ],
      "source": [
        "# Step 4: Training loop\n",
        "# The training loop is where the model learns by processing batches of data, calculating the loss, and updating weights.\n",
        "num_epochs = 10\n",
        "for epoch in range(num_epochs):\n",
        "    model.train()  # Set the model to training mode\n",
        "    total_loss = 0\n",
        "    for batch in train_loader:\n",
        "        images, labels = batch\n",
        "        optimizer.zero_grad()  # Clear gradients from the previous step\n",
        "        outputs = model(images)  # Forward pass\n",
        "        loss = criterion(outputs, labels)  # Compute the loss\n",
        "        loss.backward()  # Backward pass\n",
        "        optimizer.step()  # Update weights\n",
        "        total_loss += loss.item()\n",
        "\n",
        "    print(f\"Epoch [{epoch+1}/{num_epochs}], Loss: {total_loss/len(train_loader):.4f}\")\n",
        "\n",
        "    # Validation step\n",
        "    # Validation checks the model's performance on unseen data (not used during training).\n",
        "    model.eval()  # Set the model to evaluation mode\n",
        "    correct = 0\n",
        "    total = 0\n",
        "    with torch.no_grad():\n",
        "        for batch in val_loader:\n",
        "            images, labels = batch\n",
        "            outputs = model(images)\n",
        "            _, predicted = torch.max(outputs, 1)  # Get the class with the highest probability\n",
        "            total += labels.size(0)\n",
        "            correct += (predicted == labels).sum().item()\n",
        "\n",
        "    accuracy = 100 * correct / total\n",
        "    print(f\"Validation Accuracy: {accuracy:.2f}%\")"
      ]
    },
    {
      "cell_type": "code",
      "execution_count": null,
      "metadata": {
        "id": "C9IhK9q5Zzu9",
        "outputId": "32fcd5e5-f81c-40c9-909d-cc0ddbcbcde5",
        "colab": {
          "base_uri": "https://localhost:8080/",
          "height": 176
        }
      },
      "outputs": [
        {
          "output_type": "display_data",
          "data": {
            "text/plain": [
              "<Figure size 1000x200 with 5 Axes>"
            ],
            "image/png": "[encoded data removed]"
          },
          "metadata": {}
        }
      ],
      "source": [
        "# Step 5: Evaluate the model on a few samples\n",
        "# Evaluate the model on a small batch of data to inspect predictions.\n",
        "model.eval()\n",
        "with torch.no_grad():\n",
        "    sample_images, sample_labels = next(iter(val_loader))\n",
        "    outputs = model(sample_images)\n",
        "    _, predictions = torch.max(outputs, 1)\n",
        "\n",
        "    # Visualize predictions\n",
        "    fig, axes = plt.subplots(1, 5, figsize=(10, 2))\n",
        "    for i in range(5):\n",
        "        axes[i].imshow(sample_images[i].squeeze(), cmap='gray')\n",
        "        axes[i].set_title(f'Pred: {predictions[i].item()}\\nLabel: {sample_labels[i].item()}')\n",
        "        axes[i].axis('off')\n",
        "    plt.show()\n"
      ]
    }
  ],
  "metadata": {
    "language_info": {
      "name": "python"
    },
    "colab": {
      "provenance": [],
      "gpuType": "T4"
    },
    "kernelspec": {
      "name": "python3",
      "display_name": "Python 3"
    },
    "accelerator": "GPU"
  },
  "nbformat": 4,
  "nbformat_minor": 0
}